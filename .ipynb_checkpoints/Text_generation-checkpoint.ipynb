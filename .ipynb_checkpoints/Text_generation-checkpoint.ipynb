{
 "cells": [
  {
   "cell_type": "markdown",
   "metadata": {
    "id": "vUhNsUZqrMGB"
   },
   "source": [
    "##Lab 4. Text generation with deep learning\n",
    "Melnikov, Malysheva, Selivanovskaya\n",
    "\n",
    "\n"
   ]
  },
  {
   "cell_type": "code",
   "execution_count": null,
   "metadata": {
    "id": "f1SsVLCUrMGG"
   },
   "outputs": [],
   "source": [
    "from collections import Counter\n",
    "import csv\n",
    "\n",
    "import torch\n",
    "import torch.nn as nn\n",
    "import torch.nn.functional as F\n",
    "import numpy as np"
   ]
  },
  {
   "cell_type": "markdown",
   "metadata": {
    "id": "HYROjoD3SHb9"
   },
   "source": [
    "###Считывание данных из файла\n"
   ]
  },
  {
   "cell_type": "code",
   "execution_count": null,
   "metadata": {
    "colab": {
     "base_uri": "https://localhost:8080/",
     "height": 36
    },
    "id": "2qJxaQ_YrMGI",
    "outputId": "4b5801c1-aa6c-4e30-fcfd-3d060b5348df"
   },
   "outputs": [
    {
     "data": {
      "application/vnd.google.colaboratory.intrinsic+json": {
       "type": "string"
      },
      "text/plain": [
       "\"TRAIN_TEXT_FILE_PATH = 'train_text.txt'\\n\\nwith open(TRAIN_TEXT_FILE_PATH, 'r', encoding='cp1251') as text_file:\\n    text_sample = text_file.read()\""
      ]
     },
     "execution_count": 2,
     "metadata": {},
     "output_type": "execute_result"
    }
   ],
   "source": [
    "'''TRAIN_TEXT_FILE_PATH = 'train_text.txt'\n",
    "\n",
    "with open(TRAIN_TEXT_FILE_PATH, 'r', encoding='cp1251') as text_file:\n",
    "    text_sample = text_file.read()'''\n"
   ]
  },
  {
   "cell_type": "code",
   "execution_count": null,
   "metadata": {
    "id": "AMtQkm4ORso2"
   },
   "outputs": [],
   "source": [
    "def DataLoader(filename): #function to load arxiv.csv\n",
    "    corpus = list()\n",
    "\n",
    "    with open(filename, encoding='utf-8') as r_file:\n",
    "        file_reader = csv.reader(r_file, delimiter = \",\")\n",
    "        count = 0\n",
    "        for row in file_reader:\n",
    "            if count != 0:\n",
    "                line = row[7]\n",
    "                line = line.replace('\\n', ' ')\n",
    "                corpus.append(line)\n",
    "            count += 1\n",
    "    return corpus\n",
    "\n",
    "\n",
    "def text_to_seq(text_sample): #making dicts with words and indexes (char_to_idx, idx_to_char)\n",
    "    char_counts = Counter(text_sample)\n",
    "#     char_counts = sorted(char_counts.items(), key = lambda x: x[1], reverse=True)========--\n",
    "    sorted_chars = [char for char, _ in char_counts]\n",
    "    print(sorted_chars)\n",
    "    char_to_idx = {char: index for index, char in enumerate(sorted_chars)}\n",
    "    idx_to_char = {v: k for k, v in char_to_idx.items()}\n",
    "    sequence = np.array([char_to_idx[char] for char in text_sample])\n",
    "    \n",
    "    return sequence, char_to_idx, idx_to_char"
   ]
  },
  {
   "cell_type": "code",
   "execution_count": null,
   "metadata": {
    "id": "4QHjrznJS0pE"
   },
   "outputs": [],
   "source": [
    "corpus_list = DataLoader('arxiv.csv') \n",
    "train_arxiv = ' '.join(corpus_list)"
   ]
  },
  {
   "cell_type": "code",
   "execution_count": null,
   "metadata": {
    "colab": {
     "base_uri": "https://localhost:8080/"
    },
    "id": "T1PvWuwtVk4s",
    "outputId": "bca7c2f8-50f1-458b-f2ad-e6b210653c23"
   },
   "outputs": [
    {
     "name": "stdout",
     "output_type": "stream",
     "text": [
      "[' ', 'e', 't', 'a', 'i', 'o', 'n', 's', 'r', 'l', 'c', 'h', 'd', 'm', 'p', 'u', 'f', 'g', 'y', 'b', 'w', 'v', '.', ',', '-', 'k', 'x', 'T', '$', ')', '(', 'I', 'q', 'S', 'W', 'z', 'A', 'M', 'C', 'P', 'N', 'D', 'F', '\\\\', 'R', 'O', 'E', 'j', 'L', 'B', '1', 'G', 'H', '2', '0', '}', '{', \"'\", 'U', 'V', '3', '/', ':', '\"', '_', '^', '5', '4', 'K', '6', 'Q', ';', '9', '%', '8', '7', '+', '=', 'J', 'X', '[', ']', '|', 'Z', 'Y', '?', '~', '<', '>', '`', '*', '&', '!', '#', '@', '\\x7f']\n"
     ]
    }
   ],
   "source": [
    "sequence, char_to_idx, idx_to_char = text_to_seq(train_arxiv)"
   ]
  },
  {
   "cell_type": "markdown",
   "metadata": {
    "id": "txXLqwdWhgPW"
   },
   "source": [
    "###Генерация батчей для обучения текста"
   ]
  },
  {
   "cell_type": "code",
   "execution_count": null,
   "metadata": {
    "id": "5pLziR7ErMGJ"
   },
   "outputs": [],
   "source": [
    "SEQ_LEN = 256\n",
    "BATCH_SIZE = 16\n",
    "\n",
    "def get_batch(sequence):\n",
    "    trains = []\n",
    "    targets = []\n",
    "    for _ in range(BATCH_SIZE):\n",
    "        batch_start = np.random.randint(0, len(sequence) - SEQ_LEN)\n",
    "        chunk = sequence[batch_start: batch_start + SEQ_LEN]\n",
    "        train = torch.LongTensor(chunk[:-1]).view(-1, 1)\n",
    "        target = torch.LongTensor(chunk[1:]).view(-1, 1)\n",
    "        trains.append(train)\n",
    "        targets.append(target)\n",
    "    return torch.stack(trains, dim=0), torch.stack(targets, dim=0)"
   ]
  },
  {
   "cell_type": "markdown",
   "metadata": {
    "id": "ZiIKH0zxiMMG"
   },
   "source": [
    "###Функция генерирующая текст \n",
    "Удобно использовать при обучении"
   ]
  },
  {
   "cell_type": "code",
   "execution_count": null,
   "metadata": {
    "id": "Wv53eGACrMGL"
   },
   "outputs": [],
   "source": [
    "def evaluate(model, char_to_idx, idx_to_char, start_text=' ', prediction_len=200, temp=0.3):\n",
    "    hidden = model.init_hidden()\n",
    "    idx_input = [char_to_idx[char] for char in start_text]\n",
    "    train = torch.LongTensor(idx_input).view(-1, 1, 1).to(device)\n",
    "    predicted_text = start_text\n",
    "    \n",
    "    _, hidden = model(train, hidden)\n",
    "        \n",
    "    inp = train[-1].view(-1, 1, 1)\n",
    "    \n",
    "    for i in range(prediction_len):\n",
    "        output, hidden = model(inp.to(device), hidden)\n",
    "        output_logits = output.cpu().data.view(-1)\n",
    "        p_next = F.softmax(output_logits / temp, dim=-1).detach().cpu().data.numpy()        \n",
    "        top_index = np.random.choice(len(char_to_idx), p=p_next)\n",
    "        inp = torch.LongTensor([top_index]).view(-1, 1, 1).to(device)\n",
    "        predicted_char = idx_to_char[top_index]\n",
    "        predicted_text += predicted_char\n",
    "    \n",
    "    return predicted_text"
   ]
  },
  {
   "cell_type": "markdown",
   "metadata": {
    "id": "uFPjDuALiPaG"
   },
   "source": [
    "###Класс модели"
   ]
  },
  {
   "cell_type": "code",
   "execution_count": null,
   "metadata": {
    "id": "jNNc22CArMGM"
   },
   "outputs": [],
   "source": [
    "class RNN(nn.Module):\n",
    "    \n",
    "    def __init__(self, input_size, hidden_size, embedding_size, n_layers=1):\n",
    "        super(RNN, self).__init__()\n",
    "        \n",
    "        self.input_size = input_size\n",
    "        self.hidden_size = hidden_size\n",
    "        self.embedding_size = embedding_size\n",
    "        self.n_layers = n_layers\n",
    "\n",
    "        self.encoder = nn.Embedding(self.input_size, self.embedding_size)\n",
    "        self.lstm = nn.LSTM(self.embedding_size, self.hidden_size, self.n_layers)\n",
    "        self.dropout = nn.Dropout(0.2)\n",
    "        self.fc = nn.Linear(self.hidden_size, self.input_size)\n",
    "        \n",
    "    def forward(self, x, hidden):\n",
    "        x = self.encoder(x).squeeze(2)\n",
    "        out, (ht1, ct1) = self.lstm(x, hidden)\n",
    "        out = self.dropout(out)\n",
    "        x = self.fc(out)\n",
    "        return x, (ht1, ct1)\n",
    "    \n",
    "    def init_hidden(self, batch_size=1):\n",
    "        return (torch.zeros(self.n_layers, batch_size, self.hidden_size, requires_grad=True).to(device),\n",
    "               torch.zeros(self.n_layers, batch_size, self.hidden_size, requires_grad=True).to(device))"
   ]
  },
  {
   "cell_type": "markdown",
   "metadata": {
    "id": "sA5pXlGHitmc"
   },
   "source": [
    "###Обучение"
   ]
  },
  {
   "cell_type": "code",
   "execution_count": null,
   "metadata": {
    "colab": {
     "base_uri": "https://localhost:8080/",
     "height": 1000
    },
    "id": "OIflxiCtrMGN",
    "outputId": "29a2b51a-6396-40d5-b69d-685166dae8a3"
   },
   "outputs": [
    {
     "name": "stdout",
     "output_type": "stream",
     "text": [
      "Loss: 2.9256852436065675\n",
      " peret tes are the tir al the the the the the the or the or the to ter rerer an ror the te fo the an the the the the an te or prerin the the te an the renan the the the the tion the an ter ter the the \n",
      "Loss: 2.2634836196899415\n",
      " and the a the and the and of and modes the the resent and the the the dering the the conting and the decation the in and the the of the proal the dethe conding the the the the a the the the and the th\n",
      "Loss: 1.9999976205825805\n",
      " a proposed the and complations and the and problems and a a the and a stection and and a dearned for complered the are constration and strate the present and bation and the the both the and distrate a\n",
      "Loss: 1.8299010109901428\n",
      " the and the strances and and in the propose the interformal the the proposed and the a state the between and the experical the prove the strate to the strodum the stration the and be intermation to th\n",
      "Loss: 1.720155074596405\n",
      " secess and sets for a computation and and the proposed to the demonstrate and the system algorithms the proposed the stracked to the network a state a model compared the proposed in the distribution t\n",
      "Loss: 1.6395040559768677\n",
      " sets and sechst and the computation of the algorithms the interned of a problem ence problem of the controlled and contrastic of the and set and results to and show the computed with computations of t\n",
      "Loss: 1.583608663082123\n",
      " to the proposed the set of the proposed the proposed and in a store and control in the and is the control distributions of the problem the proposed and proposed the attems is the computation of the pr\n",
      "Loss: 1.5572475242614745\n",
      " set of the accuracy of the results and the the control the access and security of the an interver of the search and the control the access and the results are decision and the application that the set\n",
      "Loss: 1.513044822216034\n",
      " notion states to the proposed of the conteraction and success of the problem to the problem to the proposed of the optimization and the states to set of the algorithm between the processing the signif\n",
      "Loss: 1.4881087040901184\n",
      " fully and a set of the content the will and the state and the problem in the will structure and interest and the find on the form and and and order the set of the problem the state and the lower to su\n",
      "Loss: 1.4654503774642944\n",
      " formal approach and an in the propose the setting the proposed the and the approach of the states of the structure of the proposed and an and finite and the proposed a set and the proposed the and an \n",
      "Loss: 1.4517024111747743\n",
      "  We and the problem of the for the problem and a complexity and constraints of the control controller constraints is problem to an and the propose the matrix the show that a simple service and applica\n",
      "Loss: 1.4314246702194213\n",
      " one consider of the probability to be and set of the consider the state of a simulation of the set of the probability for the problems of the strategies and control and a construction to a propose the\n",
      "Loss: 1.4169958090782167\n",
      " and proposed for the distributed concepts of the problem of the constraints of the strong distributed to the set and the model with the proposed to the setting and a set and strateges the complex for \n",
      "Loss: 1.393163673877716\n",
      "  We prove the results of a structure for the set of the distribution problem of the setting the results in the interest and sets and demonstrate a provide the proposed in the set of the simulation of \n",
      "Loss: 1.4009822058677672\n",
      " set and the constraint control possible efficient set and set of the problems of the proposed and the computation and interaction of the constraints and and the set of the semantic sets and the contro\n",
      "Loss: 1.380350067615509\n",
      " and such as a proposed and accuracy and the consider the consider the constraints of the probability of the multiple and the set of the set of the matrix and the consider the consider the design of th\n",
      "Loss: 1.3634754228591919\n",
      " of the states and state and the mapping the state and in the proposed and a simulation of the states that results and a description and the application of the network problems and the construction of \n",
      "Loss: 1.3792221760749817\n",
      " and the state of the discussion to the computations of the structures that the computation method of the relation to a problem to a similarity to the construction of the problem to be the problem of t\n",
      "Loss: 1.3676512479782104\n",
      " and model of the complexity of the problem is the experiments of a content distributions and complexity of the proposed set of the sets of the proposed of the many to the proposed on the results are t\n",
      "Loss: 1.3586937975883484\n",
      " and the compared to the proposed to parameters of the proposed and a sets and the state of the set of a definition of the set of the demonstrate a computational signals of the method and such as the t\n",
      "Loss: 1.3560946822166442\n",
      "  We propose the proposed the proposed only state and the matrix in the end the proposed patterns of the states. The simulation of the several states and the proposed on the state of model of the compa\n",
      "Loss: 1.3378389286994934\n",
      " in a new models which the state and local results and the control the complexity of a set of the provided by the complete interaction to context of the state of the answer to a generative more that a \n",
      "Loss: 1.3403017902374268\n",
      " in the case and model to a construction of the distributions of the respective the approach to the proposed by the design processing and a set of the experiments on the analysis of the approach in the\n",
      "Loss: 1.3407386231422425\n",
      "  and set of the context and semantic setting and the setting and context and experimental settent setting the processing posting a proposed the setting and the decomposition of a setting of the set of\n",
      "Loss: 1.3339902234077454\n",
      "  The interference of the some of the composed and better of the proposed specification of selection of the proposed method to the transition and introduce the complex optimization of the composition o\n",
      "Loss: 1.3363344168663025\n",
      " and context of the state of the constrained as the implementation of the statistical and the proposed and states and the problem of the proposed by the proposed by the state of the computing the trans\n",
      "Loss: 1.3257001399993897\n",
      " with the control and an access that and control results to the sparse control is control for a set of a problem to the latency of the problems are the algorithm of the approach that a single and conve\n",
      "Loss: 1.3132773089408873\n",
      "  The proposed and analysis in a simulation of the context of the new structure of the solved to a computer and the problem in the state-of-the-art model of the problem to a simulated and considered to\n",
      "Loss: 1.3175322222709656\n",
      " and experimental constraint of a state of the transition systems of structure of the proposed algorithm to the best proposed statistical strategies of the controller in the statistical controller and \n",
      "Loss: 1.3146439623832702\n",
      " and extended and the matrix and the problem the construction of the state of the constraints and the traterial dataset of the consider the state-of-the-art a new the state-of-the-art the state-of-the-\n",
      "Loss: 1.306372685432434\n",
      " and compared to present a model and the state of the application in a set of setting states and applications and state of the construct the construct a states. The proposed and the construct to the pr\n",
      "Loss: 1.3122526383399964\n",
      " and the interaction of the computers and the approach can be the proposed and the training the approach and an internet of the and the consistent method of the real and the tasks of the states and set\n",
      "Loss: 1.3029370260238649\n",
      "  Turily constraint problems are the second and the applications of the problem of the proposed and the optimal methods and and and and compared to allows the problem of the proposed computational algo\n",
      "Loss: 1.2963178253173828\n",
      "  strategies and the linear second of the control problem is a problem of the processes where the station of the problem of the problem of the standard depend the model that a computational and computa\n",
      "Loss: 1.2932564115524292\n",
      " of the matrix of the computational approach and the transitions are the structure for a set of differential problem in the proposed in the constraints of the transformation of the matrix in the distri\n",
      "Loss: 1.290639898777008\n",
      " and construction of the proposed and selection problem that are present a states of the proposed as a proposed proposed approach of state of the proposed approach is a model to the state of the intere\n",
      "Loss: 1.3025073552131652\n",
      "  Finally in the security of the computational devices on the distortifications of the model of the proposed proposed and the state-of-the-art and the results of the top in the proposed by the one of t\n",
      "Loss: 1.2871303629875184\n",
      " and set of the search and the considering the set of the considering the maintained by the the multi-transmission in the provide only and solution of the model of the considering the construction of t\n",
      "Loss: 1.2895164704322815\n",
      " in the problem in the second in the accuracy in a special problem is important states of the compared to its and a set of the second the set of the second problem is considered for the compared to inf\n",
      "Loss: 1.2850735425949096\n",
      " and the state of the proposed method is a second of the proposed and the second that is a single comparisonal results are selection and a text and convolutional sensing end-to-control in the context t\n",
      "Loss: 1.2842459344863892\n",
      " the set of the proposed method to be an exploit the state to explored problem. The compared to second proposed to the state of the similar state of the subset of the proposed models of the control con\n",
      "Loss: 1.279729654788971\n",
      "  Convex probability of the states of the study and search is the search in the set of the design the search and the states and developed and applications of the problems of the localized sensors in th\n",
      "Loss: 1.273941102027893\n",
      "  in the control and a results and the processing the state-of-the-art the relation and the set and the set of the state of a novel approach to the set of the efficient for the constraint of the same d\n",
      "Loss: 1.2895206809043884\n",
      " introduce the methods in the state of the structure of the processing the design the problems to a complexity of the same design of the proposed approach as the structure of the state of the problems \n",
      "Loss: 1.2800013542175293\n",
      " internative and subjective state and the states and proposed by the approach and the state of the proposed and context structure distribution and the proposed and analysis is a problem in the proposed\n",
      "Loss: 1.2757017636299133\n",
      " interference of the sets that the sets of the proposed and a from the formal set of the structure of the computation of the structure that the proposed and the proposed on the structure of the state v\n",
      "Loss: 1.2778263306617736\n",
      "  The consider the consider the context of the problem of the concepts and interactions and the article and the state of the set in the latent problems in the problem to the special contents of the con\n",
      "Loss: 1.2748877024650573\n",
      " and setting the set of the respect to dependence and increased the transfer the proposed as a control control and specific in the first the context of the interference and the structure for the applic\n",
      "Loss: 1.2707826232910155\n",
      " weight that are the set of the entries and the controlled as a set of the number of applications of the propose a complexity of the proposed and sensitive structure of the problem is a significant sec\n",
      "Loss: 1.2772716188430786\n",
      " and non-the respective analysis of the set of the description of the compared to constraints of the proposed algorithms can be address the complex and analyze the services of the tasks of non-linear i\n",
      "Loss: 1.263590359687805\n",
      " we propose a construction of the transmitter is a problem is the problem of consistent of the state-of-the-art for the state-of-the-art and a description for the statistical matching and research on t\n",
      "Loss: 1.2699355745315553\n",
      " and the set of the construct the context and the detection to the solution and provide the state of the construction and the state-of-the-art classical design and the assumptions and a complex structu\n",
      "Loss: 1.2656882095336914\n",
      "  The network is a computation and the problem of state of the data to the proposed and show that the proposed model can be constraints are exploit the expected matching to the construction of the prop\n",
      "Loss: 1.2661691451072692\n",
      " and the set of the security of the proposed and large and induced to a set of the proposed and the complexity of the interest and the set of complexity of the security of the results in the computer a\n",
      "Loss: 1.2688679122924804\n",
      "  The first simulation and learning for a solutional results and the discuss the model and the security of the computational context problems of the compared to such as the systems and the set of signa\n",
      "Loss: 1.2581549715995788\n",
      "  The interpretation method on the structure of the construction of the second control of the proposed method between the state-of-the-art problem of the approach of the proposed method is to the propo\n",
      "Loss: 1.2617424511909485\n",
      "  The set of the experiments are allows a controller to a proposed and state of the interference to find the convergence to a state of the interest to the structure of the simulations are applied in th\n",
      "Loss: 1.2506122446060182\n",
      " such as the new information of the same learning of the constraints are provides a novel accurate design the construct the system which on the problem of the exploration of the decomposition of the se\n",
      "Loss: 1.2658632516860961\n",
      "  We introduce the context of the the problem of the set of results in a set of the comparing the problem of a substantial information and the process of a transform of the state of the transformation \n",
      "Loss: 1.2624731993675231\n",
      " which the proposed algorithms on the problem for the network compared by the solutions on the problem is a sets and state-of-the-art algorithms are show that the expective and the proposed and a secur\n",
      "Loss: 1.2492588186264038\n",
      " for the problem of the solution of the solution of the simulation of the results are features are proposed and an analyze the experimental results are show that the problem in the set of the experimen\n",
      "Loss: 1.2532680749893188\n",
      "  The problem of construction of a model of the problems are all the structure and a benchmark and interaction of the design construction of a computation and the computational scalable state to the ex\n",
      "Loss: 1.2514901161193848\n",
      "  We also also show that the problem of the problem of a new construct a new and the problem is consider the proposed and a set of the structure of the proposed and a simple and the proposed and a stat\n",
      "Loss: 1.2468998479843139\n",
      " and the similarity in the construction of the tasks and constraints of the considering the state that the strategy of the uniform to the controller methods for the proposed algorithm to the experiment\n",
      "Loss: 1.244274640083313\n",
      " and the experiments are input that the state-of-the-art and state of the problem of learning and the state of the state of the new and the simulation of the proposed design and the method is a new pro\n",
      "Loss: 1.2595457530021668\n",
      " and the results on the problem of the statistical structure of the construction of the constraints and the results on the proposed constraints are state of the extensive and a proposed to the proposed\n",
      "Loss: 1.2595127868652343\n",
      " and state-of-the-art matrix of the problem of the set of the computation and state-of-the-art experiments and the transmission in the proposed problem of the state of the proposed problem of the trans\n",
      "Loss: 1.2591412949562073\n",
      "  We show that the proposed on the server system in the structures and sensing the decoder of the compared to design the problem of a convergence in the problem of the state to an information of the se\n",
      "Loss: 1.2460945224761963\n",
      " for the proposed for the dependent model and an activity of the strong and information of the work and the construction of the convolutional neural networks in the proposed for the second of the compl\n",
      "Loss: 1.245255708694458\n",
      " which is recommendent set of the article interest that are control self and the computational interest the security decomposition and the statistical construction and a problem in an interest of the s\n",
      "Loss: 1.2361328101158142\n",
      "  and the context of the set of the transform the algorithms and a single and the set of the experiments on the control state of a subsequently in the model and such as the signals and such as the stat\n",
      "Loss: 1.229590573310852\n",
      " in the same distribution of the set of the state of the structure in the state-of-the-art in the transform of the theory of the proposed and the study of the state-of-the-art on the distribution of th\n",
      "Loss: 1.2406626987457274\n",
      " for the construction of the context of the new process to interaction of the analysis of the complex and simulations of the proposed and the complexity in the construction control and a complex and de\n",
      "Loss: 1.2553269863128662\n",
      " where the linear security and the proposed and subset of the three method and a set of the approach that the state-of-the-art algorithms for the proposed and the system and segmentation and shapes of \n",
      "Loss: 1.2414012050628662\n",
      " in order to a position of the case of the proposed proposed decomposition set of the optimal structure of the proposed and design and the context of recognition in the experiments on the signals of th\n",
      "Loss: 1.2400164890289307\n",
      " in the comparisons and control the specific computational and set of the set of our approach is a convex and sefficient to a results of the model in the computation of the model can be adaptation and \n",
      "Loss: 1.2371484804153443\n",
      "  This recognition of the state of the state-of-the-art and the construction of the problem of the constraints of the controlled such as a state of the sets of the algorithm that complexity of the comp\n",
      "Loss: 1.2422630095481872\n",
      "Epoch    79: reducing learning rate of group 0 to 5.0000e-03.\n",
      "  The proposed and state of the patterns of the optimal and computational state of the patterns and an associated and the considering and the problem of the security of the problem of the state-of-the-\n",
      "Loss: 1.2174001502990723\n",
      " - and the model to the sequence of the state-of-the-art algorithm to consider the proposed proposed method in the linear data to several second and the experimental interference of the sensitive of th\n",
      "Loss: 1.208583562374115\n",
      " and the efficient tasks of the proposed problem of considered to a set of the control of the same set of the context of the experimental results are designed to the proposed proposed as a measurements\n",
      "Loss: 1.2162813258171081\n",
      " are introduced to the algorithm to provide a problems and provides the state of the results of our methods in the transmitter that are shown that the approach to a relation of sequence of the construc\n",
      "Loss: 1.2017629981040954\n",
      "  The theoretical results and detection of the set of the proposed algorithm to the second problem is a results of the computational and a complexity of the results on the context, we derive the recent\n",
      "Loss: 1.201545124053955\n",
      "  This paper present the design to a simple context of the state of the minimization to the proposed control strategies in a single distribution of the constraints of the support the results are observ\n",
      "Loss: 1.1983305382728577\n",
      "  The proposed and servers of the topic in the constraints of the complexity of the station to existing algorithm to a processing of a provided as a many analysis and an optimal construction to a set o\n",
      "Loss: 1.1841470193862915\n",
      " and the matrix and all of the second in the problem of set of the strongly complete problem is a set of security of the relations of the problem of the distributions and a transformation in the constr\n",
      "Loss: 1.20586354970932\n",
      " are all problem of the constraints of the and compression and several constraints and a transports that are considered to a set of the space of the constraints of the proposed algorithm with the conce\n",
      "Loss: 1.1975377988815308\n",
      "  The problem of the description of the computational results are the state-of-the-art model of a computational scheme and the same scalable matrix and the state-of-the-art control problems are describ\n",
      "Loss: 1.19250972032547\n",
      "  We introduce a state of the transformation in the maximum results of the texture of the same state of the proposed algorithm to a standard data of the control to be a set of the model to the reconstr\n",
      "Loss: 1.2018389773368836\n",
      " we also address the construction of the proposed and the computational results on the statistical to different computation of the analysis of the state of the proposed method is the assigned by the de\n",
      "Loss: 1.1925712370872497\n",
      " of the complex techniques are structure of the proposed algorithm to develop a single application of the detection of the proposed algorithm to be a solving a linear control. This paper provide the ex\n",
      "Loss: 1.1940139794349671\n",
      "Epoch    92: reducing learning rate of group 0 to 2.5000e-03.\n",
      " are interface the properties of the context of the target in the same state-of-the-art sequence of a linear final and set of an experiments of state-of-the-art computation of the factors and the chann\n",
      "Loss: 1.1843017649650573\n",
      "  In this paper, we provide a problem of an experiments and the complexity of the proposed algorithms are adaptive simulation of the developed and the additional transition and state of the state-of-th\n",
      "Loss: 1.1829492092132567\n",
      " and the expected network of a analysis and the complex problems of the detection of the computational setting of the problem of algorithms are exploited as a processing and distribution of the computa\n",
      "Loss: 1.1865903735160828\n",
      " and the state-of-the-art theoretical processing method on the maximizing and structure of the sensors and interesting and similarity and a solved and present the mapping that are states of the control\n",
      "Loss: 1.1816713833808898\n",
      " and model to the detection and detection to a matrix problems are applied to be service problem is based on the results on the distributed one learning and an action and computational models of the st\n",
      "Loss: 1.1792188096046448\n",
      "  The set of systems and the proposed method of the solution of the proposed algorithm is a state-of-the-art to the constraints of the construction of the activity of a set of the manifold setting and \n",
      "Loss: 1.170023889541626\n",
      "  Finally, we propose a new and sets of the techniques and the simulation of the proposed and the state-of-the-art and such as a computational approach is a set of contains the simulation of a setting \n",
      "Loss: 1.1886136651039123\n",
      "  In the structure of the localization of the context of the convex problems are consistent and the state is a statistical supervision of the same construction of the statistical constraints in the pro\n",
      "Loss: 1.1808600258827209\n",
      "  The space of the sensors in the sensitive and provides a simple control in similar network and state-of-the-art experiments of the spatial computational model is an approximate the specific state of \n",
      "Loss: 1.1775032782554626\n",
      " are complex problem and handled to its convolutional neural networks are allows to the algorithm is a parameters of the state-of-the-art learning and the model and in the state-of-the-art and the expe\n",
      "Loss: 1.1705033564567566\n",
      " in a matrix and the problem is additional computation of the state of the construction and the states of the state-of-the-art and design of the decision methods in the detection specific state of the \n",
      "Loss: 1.1814832592010498\n",
      " the computational set of a set of the distribution of our approach is the statistical and state-of-the-art techniques and a problem is a complexity of the construction of the proposed method and the a\n",
      "Loss: 1.1731643080711365\n",
      "Epoch   104: reducing learning rate of group 0 to 1.2500e-03.\n",
      " uniform results on the set of interactions of the state of the proposed model and the many state-of-the-art problems that allows a simple structure of the state in the secure the structure of the cont\n",
      "Loss: 1.1730460047721862\n",
      "  200 and the problem is interaction of the specific context of the controller bounds are derived on the transformation to matrix of the approach is support the structure in the state-of-the-art and an\n",
      "Loss: 1.157979531288147\n",
      " and the case of the analysis of the context of the competitive problems and proposed to the proposed algorithms can be proposed to the structure of the proposed and context of computational methods an\n",
      "Loss: 1.1647373366355895\n",
      "           We propose a novel algorithm to a complexity of the constraints for the computational results for a distribution of the state of the state-of-the-art on the construction and selected on the \n",
      "Loss: 1.1673520350456237\n",
      "  sent the control for the model of the sensitive with the state-of-the-art and the construction of the systems are consider the subspace of the proposed algorithms for the control considering an infor\n",
      "Loss: 1.1596367478370666\n",
      " and determine the transmission and a partially the state of the first state-of-the-art and the applications and the solution to the sensitive methods in the proposed problem with the activity of the s\n",
      "Loss: 1.169002079963684\n",
      "  the proposed method to complex and bound to the proposed model is a state of the constraints of the computational sensing and a subset of the set of general data set of construction and computational\n",
      "Loss: 1.1677348661422728\n",
      "  The same set of probability of the state-of-the-art to the computational problem and propose a probability of the state-of-the-art in the state is a construction of the applications and provides a ne\n",
      "Loss: 1.165981662273407\n",
      "Epoch   112: reducing learning rate of group 0 to 6.2500e-04.\n",
      "  We propose a problem of the proposed and provided to the detection state of the construction of the state-of-the-art approach to the approach to a set of comparison to a simple networks and the inter\n",
      "Loss: 1.1713082265853882\n",
      " are provides a structure of the first and non-text data and the series of the theory and explored by the sequence of the state-of-the-art method to solve the context of the approach to a state of the \n",
      "Loss: 1.164289791584015\n",
      "  The proposed algorithm to the proposed approach and the problem of the advantage of the complex set of distributions of the proposed approach to the state of the sensor theoretical and the consistent\n",
      "Loss: 1.146978120803833\n",
      "  The problem of set of model and a set of computing the states for the optimal strategies of the similarity such as the interaction of the constraints in the controller that are state-of-the-art set o\n",
      "Loss: 1.1543610048294068\n",
      "  The control of the proposed and computational state of the structure of the model is a continuous and are designed to be a constraints of the structure of the problem is a set of the statistical stat\n",
      "Loss: 1.1696169924736024\n",
      "  The detection is a lower bound to a single control and the control of the state of the state-of-the-art model and integrated on the state is the solution to the set of an input complexity and local a\n",
      "Loss: 1.1506113696098328\n",
      " and the results are analyze the state of the proposed method to be proposed and the statistical problem of distribution of the improvement of the state-of-the-art structure of a detection of the compl\n",
      "Loss: 1.1625179052352905\n",
      " and the complexity of the proposed algorithms for the state-of-the-art problem is a set of the state of the entities are state-of-the-art algorithm is successfully applied to the results of the propos\n",
      "Loss: 1.1620011258125305\n",
      " A set of sets of the state-of-the-art space of the problem of the computation in the proposed algorithm to designed to a state-of-the-art state of the context of the security control and computer and \n",
      "Loss: 1.1562579441070557\n",
      "Epoch   121: reducing learning rate of group 0 to 3.1250e-04.\n",
      "  The second constraints of the data and the probability of the method to detect the complex based on the lower bounds on the computation that an input management and analyzed in the first encoder and \n",
      "Loss: 1.1499220085144044\n",
      "  In this paper, we present a novel problems. In this paper, we propose a general constraints of the large control for the structure of the distributions of a single computational set of the first deve\n",
      "Loss: 1.1623942685127258\n",
      "  In this paper, we propose a single states and the control algorithm to the strategy of the experiments are show that the complex constraints of the experiments are used to extend the subset of the st\n",
      "Loss: 1.1571834397315979\n",
      " and the context to a state of the model of the model and the comparisons for the structure in the interaction and proposed algorithm to strong and the effectiveness of the same computational structure\n",
      "Loss: 1.1578958964347839\n",
      " Later and a transmitter of the convolutional networks and sensing and control of the proposed methods to exploit the state-of-the-art matching between the same set of the problem of the proposed algor\n",
      "Loss: 1.1551573085784912\n",
      "  The problem of extensive results can be adaptive and the prediction and the matrix and the structure to the proposed and and selection to the constraints of the setting that are recognition and inter\n",
      "Loss: 1.1543061685562135\n",
      "Epoch   127: reducing learning rate of group 0 to 1.5625e-04.\n",
      " are proposed to the state-of-the-art results consider the problem of deep learning in the latter structure of the results show that the proposed approach to an algorithms and an explored to a methods \n",
      "Loss: 1.153651237487793\n",
      "  The problem of the detection to a large matching and complex model and the set of selection of the control in the semantic set of finite detection and the set of analysis and state-of-the-art algorit\n",
      "Loss: 1.1601869082450866\n",
      "  The state of the state-of-the-art of the set of set of the first strong parameter matching structure of the design that also analyze the complexity of the state is to state of a subset of detection o\n",
      "Loss: 1.1511273336410524\n",
      "  The state-of-the-art and context of the computational complex complexity of the convergence and a state-of-the-art algorithms and the state-of-the-art strategies for the linear results of the propose\n",
      "Loss: 1.156198091506958\n",
      "  The construction of the proposed method is a simple and the problem of solution of the proposed algorithm to be a set of the solutions of the state of the problem of analysis and a state of the distr\n",
      "Loss: 1.1652297735214234\n",
      " and the problem of convergence set of the model for the statistical state-of-the-art and the computational set of a set of and experiments on the statistical design that is to an analysis of the same \n",
      "Loss: 1.1522640585899353\n",
      "Epoch   133: reducing learning rate of group 0 to 7.8125e-05.\n",
      " which are interaction of the transformation and a computational complex state of the computational similar to the proposed approach to a controller to a strategy of the problem of construction of the \n",
      "Loss: 1.1678272271156311\n",
      " different problem is a specific state-of-the-art and the statistical and representation of the art and the proposed method is a control in the first algorithms are also also analyze the model at the s\n",
      "Loss: 1.1584739875793457\n",
      "  We also show that the state-of-the-art and a function of the sensors to an explore the computational language context of decision structure of the approach to the same structure of the state-of-the-a\n",
      "Loss: 1.1487834501266478\n",
      "  The optimal for the matrix to the context of the simulation framework to be presented to the large problem is a subset of the proposed method is the simulation and complexity of the state-of-the-art \n",
      "Loss: 1.1600933384895324\n",
      "  structure of the computational problem of the complex and consistent structure of the source description of the structure is a computational problem of state of the proposed and selection of the algo\n",
      "Loss: 1.1510812878608703\n",
      " and the optimal structure of the first computational and are control and specific problem for design and complex state of the method of the state-of-the-art state to a problem of the solutions of the \n",
      "Loss: 1.1572071313858032\n",
      "Epoch   139: reducing learning rate of group 0 to 3.9063e-05.\n",
      "  The Gradient in a detection of the problem of a set of context of the design and the model and the state is the analysis of the structure of the problem of the state of the construction for the secon\n",
      "Loss: 1.1603543806076049\n",
      "    30 state of the state-of-the-art of the context of the results are better algorithm to design the state in the decision to a problem is a context of the proposed algorithm and the simulation of the\n",
      "Loss: 1.1453519678115844\n",
      "  The algorithm is proposed and the proposed proposed approach is a solution of the model of the application of the set of the results of the second control and the security to a set of distribution of\n",
      "Loss: 1.1662820196151733\n",
      "  The control of a linear constraints of the set of components are applied to a single and presented to study a model and the set of the state of the development of the dependent problem of the advance\n",
      "Loss: 1.1529238724708557\n",
      "        The design and a state-of-the-art state-of-the-art sensor structure and the supervised by the proposed proposed problems and state-of-the-art results are the solution to the proposed algorithm \n",
      "Loss: 1.157431116104126\n",
      "  The second problem to construct the same set of a context of the proposed method for the state of the computational convergence demonstrate the state of the applications are states of the second to t\n",
      "Loss: 1.1399927759170532\n",
      " and the specific control for a computational constraints of the control structure of the theory of the distributions of the proposed algorithm to the state-of-the-art on the solution to the state-of-t\n",
      "Loss: 1.1676901388168335\n",
      " and the structure of the solution and the probability of the datasets and decomposition of the set of complexity of the computational statistical systems and the model control for the complexity of th\n",
      "Loss: 1.1546336650848388\n",
      "      The subset of the computational problems and the problem of structure of the context of the approach to a prediction that are the functions to assume the matrix of the state-of-the-art and the sa\n",
      "Loss: 1.1565259671211243\n",
      "  The experiments are sensitive to a set of the state-of-the-art and the constraints in the same control control consistent and proposed at the solution and respect to the detection and entire the comp\n",
      "Loss: 1.1567826747894288\n",
      "  The algorithm and a state-of-the-art for the advantage of the results of the state-of-the-art and state-of-the-art science of the set of interest to the same set of computational space of the statist\n",
      "Loss: 1.1473525953292847\n",
      " we also the system and state of such as the event and respectively and control of the optimal and segmentation of the word and experimental and the problem of the analysis of the simulations of the se\n",
      "Loss: 1.1599579310417176\n",
      "Epoch   151: reducing learning rate of group 0 to 1.9531e-05.\n",
      "  The interest to a set of any state of the important strategies of the lower bound to a complex structures of the proposed algorithm to the sub-system with the state-of-the-art and an article be a set\n",
      "Loss: 1.1541652441024781\n",
      " mathematical and selection of the sequence in the analysis of the state of the context of the optimal analysis and a set of security constraints of the states of the design of the state of the state-o\n",
      "Loss: 1.1578081154823303\n",
      "  The problem is increase the problem of an artificial learning of the set of achieves a context of the source process of the proposed algorithms are exploiting a set of the problem is a specific possi\n",
      "Loss: 1.155047116279602\n",
      "  The proposed algorithm to the systems are obtained by the compression of the second controller of the structure of the processes and analyzed in the specific interaction of the proposed approach is t\n",
      "Loss: 1.159588189125061\n",
      "  We show that the proposed approach is the strategy can be provides a computer and an interference for the system is a single and the control and the problems are considered to the complexity of the s\n",
      "Loss: 1.1449549555778504\n",
      "  The approaches that are designed to the results on the set of control and the computational context of the proposed algorithm for the subset of a single simple and state-of-the-art structure that is \n",
      "Loss: 1.1550112080574035\n",
      "Epoch   157: reducing learning rate of group 0 to 9.7656e-06.\n",
      " and such as a set of complex setting and interactions and the setting and an experiments are better computational set of set of the solution of the same complexity of the constraints of the state of t\n",
      "Loss: 1.1553574347496032\n",
      "  The first properties of the activity of the complexity of the setting of the applications of the second and a large uniform linear context of the state-of-the-art information and simple problem is a \n",
      "Loss: 1.1527677083015442\n",
      " The computational set of particular and the optimal solution that are able to analyze the state of the first information and significant approach to results and an analysis of the results are proposed\n",
      "Loss: 1.157547824382782\n",
      "  The proposed algorithm with the proposed approach to a developed and provides a set of the model computational interest and setting and the computational structure of the control of the state-of-the-\n",
      "Loss: 1.1425758266448975\n",
      "  The proposed algorithm to a set of set of low design of the same set of the problem and the set of the results are considered to predict the sensitive context to construct the structure and the conte\n",
      "Loss: 1.165258183479309\n",
      "  The algorithm to the proposed algorithms as a set of set of the network is successfully control the statistical structure of the context of the interest and a set of the data and the state of the pro\n",
      "Loss: 1.1462322092056274\n",
      "Epoch   163: reducing learning rate of group 0 to 4.8828e-06.\n",
      "  The complex and proposed algorithm to the state of the artificial convergence and the proposed algorithm is a protocols of the state-of-the-art problem in the proposed method such as the state-of-the\n",
      "Loss: 1.1617372560501098\n",
      "        The results of the proposed approach is state-of-the-art of the proposed algorithm to many state of the context of the main problems of the model of the subsequent and the problem is a set of s\n",
      "Loss: 1.1470112323760986\n",
      "  The problem of the simulation of a probability and the average servers and the state-of-the-art and the applications in the context of the transformation of the subset of the sensitive of the set of \n",
      "Loss: 1.1475052809715272\n",
      "      We propose a new and the solution to the state-of-the-art in the complex networks are state-of-the-art and detection and state of the state-of-the-art and distribution of a simple problem of the \n",
      "Loss: 1.1516600823402405\n",
      " and the proposed algorithm to explore the model (CNNs) and the solution and analyzed for the computational techniques are decomposition of the large context of the algorithm that are developed to prev\n",
      "Loss: 1.1489028239250183\n",
      " - model the problem of the proposed algorithm is a statistical subset of the computational properties of the state-of-the-art set of set of lower bounds of the problem of algorithm is a complexity of \n",
      "Loss: 1.1468797326087952\n",
      "Epoch   169: reducing learning rate of group 0 to 2.4414e-06.\n",
      "  We also provide a set of set of detection of the set of applications are computed by a simple and a single and state-of-the-art algorithm to compare the control in the algorithm to a possible to many\n",
      "Loss: 1.1489180254936218\n",
      " with a set of approach to the state-of-the-art algorithm to the context of the design of the sensitive to a strategies that are also considered to the structure of the proposed algorithm to predict a \n",
      "Loss: 1.163102478981018\n",
      " which are proposed and state in the problem of local setting that is a context of the context of the control and the simulations of the approach to the same interesting state of the strategy is a dete\n",
      "Loss: 1.1568702507019042\n",
      "  The set of spatial design of the proposed method to be the problem of the experiments are also the maximum to the second processing and simulation and the channel sensitive and non-context and state \n",
      "Loss: 1.1545047354698181\n",
      "  We propose a novel structure of the set of the simulation and analyzed data and the control of the model and the computational and analysis and the set of algorithm to secure the proposed algorithms \n",
      "Loss: 1.1448849105834962\n",
      "  The control and respect to the set of applications of the problem of problem is introduced to the state-of-the-art problems in the control of the complexity of the constraints in the second detection\n",
      "Loss: 1.1363170385360717\n",
      "      The use of the state of the actions and complex transformation in the articles and shape is a set of and achieved by the set of parameters and the proposed algorithm to reduce the proposed method\n",
      "Loss: 1.1543047428131104\n",
      " and the complexity of a construction of a computational methods on the state of the lattice that are not a set of ability of a state-of-the-art and the problem is several approach to a set of computat\n",
      "Loss: 1.1649275946617126\n",
      "  In this paper, we propose a new methods to a results on the proposed algorithm is a representations of a set of the state of the specific properties of the state-of-the-art of the experiments on the \n",
      "Loss: 1.142744972705841\n",
      "  The properties to matrix the state-of-the-art and proposed and attention problem is a context to a set of state-of-the-art in the large set of problem in the approach to a constraints are all the sou\n",
      "Loss: 1.1592451643943786\n",
      "  In this paper, we propose a new problems of the supervised space of a single setting of the proposed algorithm to address the proposed approach is a single computational technique is a complexity of \n",
      "Loss: 1.1600708389282226\n",
      "      We also propose a new complex layer and the solutions of the state-of-the-art approach to address the results in the complex controller than the proposed problem and a single experiments on the d\n",
      "Loss: 1.1565004348754884\n",
      "Epoch   181: reducing learning rate of group 0 to 1.2207e-06.\n",
      "  The structure of the proposed algorithm is a state-of-the-art problems and the statistical structure of the state-of-the-art algorithms for the complexity of the structure of subset of the states of \n",
      "Loss: 1.1549624276161194\n",
      "  The convergence of the important distribution is the algorithm is a single space of the approach to design the proposed approach for the system of the performance of the state-of-the-art strategies o\n",
      "Loss: 1.1595265769958496\n",
      " Monotonically, we consider the same data control for the design of the control of the approaches and the set of latent and analyzing the context of solving the size of the computational complex and th\n",
      "Loss: 1.1531349301338196\n",
      "  Our methods and the context of a complexity of the set of operations. The proposed approach is a single simple construction of the complex and the state of the sensors and the problem is proposed a s\n",
      "Loss: 1.1532057070732116\n",
      " are one of the proposed algorithm to a positive and detection and the approach to a probability of the proposed algorithm to completely the complex and the state-of-the-art method to be a single compu\n",
      "Loss: 1.1556328082084655\n",
      "      In this paper, we propose a new latent technique is a set of the proposed problems are proposed to a set of the set of the model and experimental results are adaptive and detection of the communi\n",
      "Loss: 1.1634790229797363\n",
      "Epoch   187: reducing learning rate of group 0 to 6.1035e-07.\n",
      " are a simple probability of the constraints and the distribution of the second or an active stochastic state of the computational control and a set of the solution of the set of both the state-of-the-\n",
      "Loss: 1.161950752735138\n",
      "  The structure of a state-of-the-art constraints of the unitional state of the setting of a set of the contains the state-of-the-art and the context of the context of sensing to the interference and a\n",
      "Loss: 1.1537369465827942\n",
      "        We propose a new and proposed algorithm to be address the solutions of the set of state of the results for a subset of the hand and the structure of the state of the problem of systems are appl\n",
      "Loss: 1.149686872959137\n",
      "  The results with the distribution of the problem of information is the context of the complexity of the interest is a set of distribution of the proposed algorithm is shown that the sequence of the s\n",
      "Loss: 1.1541342639923096\n",
      "  The object to the results are convergence of the second complex complex and detection of a set of distribution selection of the constraints of the problem of deterministic parameters of the second th\n"
     ]
    },
    {
     "ename": "KeyboardInterrupt",
     "evalue": "ignored",
     "output_type": "error",
     "traceback": [
      "\u001b[0;31m---------------------------------------------------------------------------\u001b[0m",
      "\u001b[0;31mKeyboardInterrupt\u001b[0m                         Traceback (most recent call last)",
      "\u001b[0;32m<ipython-input-10-ba2736e1a0de>\u001b[0m in \u001b[0;36m<module>\u001b[0;34m()\u001b[0m\n\u001b[1;32m     25\u001b[0m     \u001b[0mloss\u001b[0m \u001b[0;34m=\u001b[0m \u001b[0mcriterion\u001b[0m\u001b[0;34m(\u001b[0m\u001b[0moutput\u001b[0m\u001b[0;34m.\u001b[0m\u001b[0mpermute\u001b[0m\u001b[0;34m(\u001b[0m\u001b[0;36m1\u001b[0m\u001b[0;34m,\u001b[0m \u001b[0;36m2\u001b[0m\u001b[0;34m,\u001b[0m \u001b[0;36m0\u001b[0m\u001b[0;34m)\u001b[0m\u001b[0;34m,\u001b[0m \u001b[0mtarget\u001b[0m\u001b[0;34m.\u001b[0m\u001b[0msqueeze\u001b[0m\u001b[0;34m(\u001b[0m\u001b[0;34m-\u001b[0m\u001b[0;36m1\u001b[0m\u001b[0;34m)\u001b[0m\u001b[0;34m.\u001b[0m\u001b[0mpermute\u001b[0m\u001b[0;34m(\u001b[0m\u001b[0;36m1\u001b[0m\u001b[0;34m,\u001b[0m \u001b[0;36m0\u001b[0m\u001b[0;34m)\u001b[0m\u001b[0;34m)\u001b[0m\u001b[0;34m\u001b[0m\u001b[0;34m\u001b[0m\u001b[0m\n\u001b[1;32m     26\u001b[0m \u001b[0;34m\u001b[0m\u001b[0m\n\u001b[0;32m---> 27\u001b[0;31m     \u001b[0mloss\u001b[0m\u001b[0;34m.\u001b[0m\u001b[0mbackward\u001b[0m\u001b[0;34m(\u001b[0m\u001b[0;34m)\u001b[0m\u001b[0;34m\u001b[0m\u001b[0;34m\u001b[0m\u001b[0m\n\u001b[0m\u001b[1;32m     28\u001b[0m     \u001b[0moptimizer\u001b[0m\u001b[0;34m.\u001b[0m\u001b[0mstep\u001b[0m\u001b[0;34m(\u001b[0m\u001b[0;34m)\u001b[0m\u001b[0;34m\u001b[0m\u001b[0;34m\u001b[0m\u001b[0m\n\u001b[1;32m     29\u001b[0m     \u001b[0moptimizer\u001b[0m\u001b[0;34m.\u001b[0m\u001b[0mzero_grad\u001b[0m\u001b[0;34m(\u001b[0m\u001b[0;34m)\u001b[0m\u001b[0;34m\u001b[0m\u001b[0;34m\u001b[0m\u001b[0m\n",
      "\u001b[0;32m/usr/local/lib/python3.7/dist-packages/torch/_tensor.py\u001b[0m in \u001b[0;36mbackward\u001b[0;34m(self, gradient, retain_graph, create_graph, inputs)\u001b[0m\n\u001b[1;32m    305\u001b[0m                 \u001b[0mcreate_graph\u001b[0m\u001b[0;34m=\u001b[0m\u001b[0mcreate_graph\u001b[0m\u001b[0;34m,\u001b[0m\u001b[0;34m\u001b[0m\u001b[0;34m\u001b[0m\u001b[0m\n\u001b[1;32m    306\u001b[0m                 inputs=inputs)\n\u001b[0;32m--> 307\u001b[0;31m         \u001b[0mtorch\u001b[0m\u001b[0;34m.\u001b[0m\u001b[0mautograd\u001b[0m\u001b[0;34m.\u001b[0m\u001b[0mbackward\u001b[0m\u001b[0;34m(\u001b[0m\u001b[0mself\u001b[0m\u001b[0;34m,\u001b[0m \u001b[0mgradient\u001b[0m\u001b[0;34m,\u001b[0m \u001b[0mretain_graph\u001b[0m\u001b[0;34m,\u001b[0m \u001b[0mcreate_graph\u001b[0m\u001b[0;34m,\u001b[0m \u001b[0minputs\u001b[0m\u001b[0;34m=\u001b[0m\u001b[0minputs\u001b[0m\u001b[0;34m)\u001b[0m\u001b[0;34m\u001b[0m\u001b[0;34m\u001b[0m\u001b[0m\n\u001b[0m\u001b[1;32m    308\u001b[0m \u001b[0;34m\u001b[0m\u001b[0m\n\u001b[1;32m    309\u001b[0m     \u001b[0;32mdef\u001b[0m \u001b[0mregister_hook\u001b[0m\u001b[0;34m(\u001b[0m\u001b[0mself\u001b[0m\u001b[0;34m,\u001b[0m \u001b[0mhook\u001b[0m\u001b[0;34m)\u001b[0m\u001b[0;34m:\u001b[0m\u001b[0;34m\u001b[0m\u001b[0;34m\u001b[0m\u001b[0m\n",
      "\u001b[0;32m/usr/local/lib/python3.7/dist-packages/torch/autograd/__init__.py\u001b[0m in \u001b[0;36mbackward\u001b[0;34m(tensors, grad_tensors, retain_graph, create_graph, grad_variables, inputs)\u001b[0m\n\u001b[1;32m    154\u001b[0m     Variable._execution_engine.run_backward(\n\u001b[1;32m    155\u001b[0m         \u001b[0mtensors\u001b[0m\u001b[0;34m,\u001b[0m \u001b[0mgrad_tensors_\u001b[0m\u001b[0;34m,\u001b[0m \u001b[0mretain_graph\u001b[0m\u001b[0;34m,\u001b[0m \u001b[0mcreate_graph\u001b[0m\u001b[0;34m,\u001b[0m \u001b[0minputs\u001b[0m\u001b[0;34m,\u001b[0m\u001b[0;34m\u001b[0m\u001b[0;34m\u001b[0m\u001b[0m\n\u001b[0;32m--> 156\u001b[0;31m         allow_unreachable=True, accumulate_grad=True)  # allow_unreachable flag\n\u001b[0m\u001b[1;32m    157\u001b[0m \u001b[0;34m\u001b[0m\u001b[0m\n\u001b[1;32m    158\u001b[0m \u001b[0;34m\u001b[0m\u001b[0m\n",
      "\u001b[0;31mKeyboardInterrupt\u001b[0m: "
     ]
    }
   ],
   "source": [
    "device = torch.device('cuda') if torch.cuda.is_available() else torch.device('cpu')\n",
    "model = RNN(input_size=len(idx_to_char), hidden_size=128, embedding_size=128, n_layers=2)\n",
    "\n",
    "#model.load_state_dict(torch.load(TRAIN_MODEL_FILE_PATH)) \n",
    "model.to(device)\n",
    "\n",
    "criterion = nn.CrossEntropyLoss()\n",
    "optimizer = torch.optim.Adam(model.parameters(), lr=1e-2, amsgrad=True)\n",
    "scheduler = torch.optim.lr_scheduler.ReduceLROnPlateau(\n",
    "    optimizer, \n",
    "    patience=5, \n",
    "    verbose=True, \n",
    "    factor=0.5\n",
    ")\n",
    "\n",
    "n_epochs = 50000\n",
    "loss_avg = []\n",
    "\n",
    "for epoch in range(n_epochs):\n",
    "    model.train()\n",
    "    train, target = get_batch(sequence)\n",
    "    train = train.permute(1, 0, 2).to(device)\n",
    "    target = target.permute(1, 0, 2).to(device)\n",
    "    hidden = model.init_hidden(BATCH_SIZE)\n",
    "\n",
    "    output, hidden = model(train, hidden)\n",
    "    loss = criterion(output.permute(1, 2, 0), target.squeeze(-1).permute(1, 0))\n",
    "    \n",
    "    loss.backward()\n",
    "    optimizer.step()\n",
    "    optimizer.zero_grad()\n",
    "    \n",
    "    loss_avg.append(loss.item())\n",
    "    if len(loss_avg) >= 50:\n",
    "        mean_loss = np.mean(loss_avg)\n",
    "        print(f'Loss: {mean_loss}')\n",
    "        scheduler.step(mean_loss)\n",
    "        loss_avg = []\n",
    "        model.eval()\n",
    "        predicted_text = evaluate(model, char_to_idx, idx_to_char)\n",
    "        print(predicted_text)"
   ]
  },
  {
   "cell_type": "markdown",
   "metadata": {
    "id": "YfXw029Mi1gD"
   },
   "source": [
    "###Сохранение модели "
   ]
  },
  {
   "cell_type": "code",
   "execution_count": null,
   "metadata": {
    "id": "dLeAu7_RdiLZ"
   },
   "outputs": [],
   "source": [
    "torch.save(model.state_dict(), 'model_trained_arxiv.pt')\n",
    "model = RNN(input_size=len(idx_to_char), hidden_size=128, embedding_size=128, n_layers=2)\n",
    "model.load_state_dict(torch.load('model_trained_arxiv.pt')) "
   ]
  },
  {
   "cell_type": "markdown",
   "metadata": {
    "id": "OcDPBlBSkj4C"
   },
   "source": [
    "###Гененирование текста на обученной модели "
   ]
  },
  {
   "cell_type": "code",
   "execution_count": null,
   "metadata": {
    "colab": {
     "base_uri": "https://localhost:8080/"
    },
    "id": "Iv_oljDerMGP",
    "outputId": "129e38af-a556-4ee5-e44a-e200838129fe"
   },
   "outputs": [
    {
     "name": "stdout",
     "output_type": "stream",
     "text": [
      ".  Understanding for decomposition of a challenge of the second reconstruction of the minimum results detect the decision and a probability of some settings for the handles the distribution for the neural networks that expected on the parameters and design of the supervision and presently frequency of the interference of strongly strategy is a semantic case of the control links to many design system to find the proposed functions of the generating variables is the participant generation and the achieved data is achieved for the state-of-the-art of the experimental learning and linear set of our model of the state-of-the-art manipulation of the context level at the proposed algorithm (artificial network for the structure. The state development of the control problem of a controller complexity and $\\epsilon}$ is even which the approaches and a simple models of the proposed approach to the case of the optimization of the layer of work system for a systems for the problem of deep learning an\n"
     ]
    }
   ],
   "source": [
    "model.eval()\n",
    "\n",
    "print(evaluate(\n",
    "    model, \n",
    "    char_to_idx, \n",
    "    idx_to_char, \n",
    "    temp=0.5, \n",
    "    prediction_len=1000, \n",
    "    start_text='. '\n",
    "    )\n",
    ")"
   ]
  }
 ],
 "metadata": {
  "accelerator": "GPU",
  "colab": {
   "collapsed_sections": [],
   "name": "Text_generation",
   "provenance": []
  },
  "kernelspec": {
   "display_name": "Python 3 (ipykernel)",
   "language": "python",
   "name": "python3"
  },
  "language_info": {
   "codemirror_mode": {
    "name": "ipython",
    "version": 3
   },
   "file_extension": ".py",
   "mimetype": "text/x-python",
   "name": "python",
   "nbconvert_exporter": "python",
   "pygments_lexer": "ipython3",
   "version": "3.7.3"
  }
 },
 "nbformat": 4,
 "nbformat_minor": 1
}
